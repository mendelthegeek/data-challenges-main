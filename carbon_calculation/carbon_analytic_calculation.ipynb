{
 "cells": [
  {
   "cell_type": "markdown",
   "metadata": {},
   "source": [
    "# YvesBlue Backend Challenge\n",
    "## Carbon Analytic Calculation\n",
    "### Goal: Utilizing this Jupyter Notebook (and additional libraries/files/tools as needed) implement a function that can be utilized to calculate the (strawman) Adjusted CO2 Total emissions for a company. \n",
    "### Notes: The calculation is laid out in this [image](calculation.png?raw=true). The data is stored inside of the [included data file](data.json?raw=true). Your code structure can take whatever you believe to be best (individual function, class, module, etc.). Please implement the code as well as write tests for the calculation, showcasing how you would write tests for such requirements. Provide instructions with your submission for how to call your implemented function as well as how to run the tests.\n",
    "## Author: @github_username (Full Name)\n",
    "## Date: YYYY-MM-DD"
   ]
  },
  {
   "cell_type": "code",
   "execution_count": 1,
   "metadata": {},
   "outputs": [],
   "source": [
    "## Import Libraries\n",
    "\n",
    "from decimal import *\n",
    "import json\n",
    "import os\n",
    "\n",
    "import numpy\n",
    "\n",
    "import pytest\n",
    "import ipytest\n",
    "\n",
    "ipytest.autoconfig()"
   ]
  },
  {
   "cell_type": "code",
   "execution_count": 2,
   "metadata": {},
   "outputs": [],
   "source": [
    "## Specify Calculation Function\n",
    "\n",
    "getcontext().prec = 12\n",
    "\n",
    "def calculate_adjusted_total(json_obj):\n",
    "    credit_diff = Decimal(json_obj['Total CO2 Equivalents Emissions']) - Decimal(json_obj['Carbon Credit Value'])\n",
    "    renewable_percentage = Decimal(json_obj['Renewable Energy Purchased']) / Decimal(json_obj['Total Energy Use'])\n",
    "    renewable_factor = Decimal(1) - Decimal(min([Decimal(.5)*renewable_percentage, Decimal(.8)]))\n",
    "    factored_produced = Decimal(.05) * Decimal(json_obj['Renewable Energy Produced'])\n",
    "    return credit_diff*renewable_factor - factored_produced\n",
    "            "
   ]
  },
  {
   "cell_type": "code",
   "execution_count": 3,
   "metadata": {},
   "outputs": [
    {
     "name": "stdout",
     "output_type": "stream",
     "text": [
      "81902.9884579\n",
      "247545.066472\n",
      "86464.0650415\n",
      "-44835.8791918\n",
      "111694.642470\n",
      "174827.678028\n",
      "53170.8979693\n",
      "80180.6796602\n",
      "49487.0479229\n",
      "268186.239806\n",
      "389716.357287\n",
      "171647.987964\n",
      "903772.104870\n",
      "56404.9756759\n",
      "10100.7834060\n",
      "-74343.5131683\n",
      "1398.84986820\n",
      "261778.097206\n",
      "608438.368404\n",
      "673525.138898\n"
     ]
    }
   ],
   "source": [
    "## Demonstrate Solution with Calculation Function\n",
    "json_file = open('data.json')\n",
    "\n",
    "loaded_json = json.load(json_file)\n",
    "\n",
    "for json_obj in loaded_json:\n",
    "    print(calculate_adjusted_total(json_obj))\n"
   ]
  },
  {
   "cell_type": "code",
   "execution_count": 4,
   "metadata": {},
   "outputs": [
    {
     "name": "stdout",
     "output_type": "stream",
     "text": [
      "\u001b[32m.\u001b[0m\u001b[32m.\u001b[0m\u001b[32m.\u001b[0m\u001b[32m                                                                                          [100%]\u001b[0m\n",
      "\u001b[32m\u001b[32m\u001b[1m3 passed\u001b[0m\u001b[32m in 0.01s\u001b[0m\u001b[0m\n"
     ]
    }
   ],
   "source": [
    "## Test Calculation Function\n",
    "\n",
    "def test_0():\n",
    "    assert calculate_adjusted_total({\n",
    "    \"ISIN\": \"foo\",\n",
    "    \"Total Energy Use\": 1,\n",
    "    \"Total CO2 Equivalents Emissions\": 0,\n",
    "    \"Renewable Energy Purchased\": 1,\n",
    "    \"Renewable Energy Produced\": 0,\n",
    "    \"Carbon Credit Value\": 0\n",
    "  }) == Decimal(0)\n",
    "\n",
    "def test_1():\n",
    "    assert calculate_adjusted_total({\n",
    "    \"ISIN\": \"foo\",\n",
    "    \"Total Energy Use\": 1,\n",
    "    \"Total CO2 Equivalents Emissions\": 0,\n",
    "    \"Renewable Energy Purchased\": 0,\n",
    "    \"Renewable Energy Produced\": 20,\n",
    "    \"Carbon Credit Value\": 0\n",
    "  }) == Decimal(-1)\n",
    "\n",
    "def test_2():\n",
    "    assert calculate_adjusted_total({\n",
    "    \"ISIN\": \"foo\",\n",
    "    \"Total Energy Use\": 1,\n",
    "    \"Total CO2 Equivalents Emissions\": 4,\n",
    "    \"Renewable Energy Purchased\": 1,\n",
    "    \"Renewable Energy Produced\": 0,\n",
    "    \"Carbon Credit Value\": 2\n",
    "  }) == Decimal(1)\n",
    "\n",
    "ipytest.run()"
   ]
  }
 ],
 "metadata": {
  "kernelspec": {
   "display_name": "Python 3",
   "language": "python",
   "name": "python3"
  },
  "language_info": {
   "codemirror_mode": {
    "name": "ipython",
    "version": 3
   },
   "file_extension": ".py",
   "mimetype": "text/x-python",
   "name": "python",
   "nbconvert_exporter": "python",
   "pygments_lexer": "ipython3",
   "version": "3.7.6"
  }
 },
 "nbformat": 4,
 "nbformat_minor": 4
}
